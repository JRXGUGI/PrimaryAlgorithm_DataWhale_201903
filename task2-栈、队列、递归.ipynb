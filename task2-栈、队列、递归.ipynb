{
 "cells": [
  {
   "cell_type": "markdown",
   "metadata": {},
   "source": [
    "## 顺序栈 \n",
    "[参考博文](https://blog.csdn.net/weixin_42698229/article/details/90211114)  \n",
    "使用python内置数据类型list及其附带方法实现，主要是栈内数据类型一致，和压栈和出栈功能实现"
   ]
  },
  {
   "cell_type": "code",
   "execution_count": 18,
   "metadata": {
    "ExecuteTime": {
     "end_time": "2019-05-15T11:06:10.147100Z",
     "start_time": "2019-05-15T11:06:10.113098Z"
    }
   },
   "outputs": [
    {
     "name": "stdout",
     "output_type": "stream",
     "text": [
      "['C', 'B', 'A']\n",
      "['C', 'B']\n",
      "['C', 'B']\n"
     ]
    }
   ],
   "source": [
    "# 顺序栈\n",
    "class ListStack(object):\n",
    "    def __init__(self):\n",
    "        self.stack = []\n",
    "    # 压栈\n",
    "    def push(self, item):\n",
    "        self.stack.insert(0,item) \n",
    "    # 出栈\n",
    "    def pop(self):\n",
    "        return self.stack.pop() # list的pop函数从尾部弹出 正好满足先进后出\n",
    "\n",
    "    def is_empty(self):\n",
    "        return self.stack == []\n",
    "    # 获取但不移除栈尾\n",
    "    def peek(self):\n",
    "        if self.is_empty():\n",
    "            return None\n",
    "        return self.stack[-1]\n",
    "\n",
    "    def size(self):\n",
    "        return len(self.stack)\n",
    "    \n",
    "    def printStack(self):\n",
    "        print(self.stack)\n",
    "\n",
    "listStack = ListStack()\n",
    "listStack.push('A')\n",
    "listStack.push('B')\n",
    "listStack.push('C')\n",
    "listStack.printStack()\n",
    "listStack.pop() # 先进后出\n",
    "listStack.printStack()\n",
    "listStack.peek()\n",
    "listStack.printStack()"
   ]
  },
  {
   "cell_type": "markdown",
   "metadata": {},
   "source": [
    "## 链栈\n",
    "[参考博客](http://www.luyixian.cn/news_show_17722.aspx)"
   ]
  },
  {
   "cell_type": "code",
   "execution_count": 29,
   "metadata": {
    "ExecuteTime": {
     "end_time": "2019-05-15T11:20:27.344129Z",
     "start_time": "2019-05-15T11:20:27.301126Z"
    }
   },
   "outputs": [
    {
     "name": "stdout",
     "output_type": "stream",
     "text": [
      "None\n"
     ]
    }
   ],
   "source": [
    "# 链栈1\n",
    "# 定义节点\n",
    "class Node(object):\n",
    "    def __init__(self, data):\n",
    "        self.data = data\n",
    "        self.next = None\n",
    "\n",
    "# 以链表节点构成栈\n",
    "class LinkStack(object):\n",
    "    def __init__(self):\n",
    "        self.node = Node(None)\n",
    "        self.head = self.node\n",
    "        self.size = 0\n",
    "\n",
    "    def is_empty(self):\n",
    "        return self.size == 0\n",
    "\n",
    "    def get_size(self):\n",
    "        return self.size\n",
    "\n",
    "    def push(self, data): # 该处每次push均新建一个node\n",
    "        node = Node(data)\n",
    "        node.next = self.head.next\n",
    "        self.head.next = node\n",
    "        self.size += 1\n",
    "\n",
    "    def pop(self):\n",
    "        if not self.is_empty():\n",
    "            current_node = self.head.next\n",
    "            if self.get_size() == 1:\n",
    "                self.head.next = None\n",
    "            else:\n",
    "                self.head.next = self.head.next.next\n",
    "            self.size -= 1\n",
    "            return current_node.data\n",
    "        else:\n",
    "            raise IndexError(\"pop from empty stack\")\n",
    "\n",
    "    def top(self):\n",
    "        if not self.is_empty():\n",
    "            return self.head.next.data\n",
    "        else:\n",
    "            raise IndexError(\"stack is empty\")            "
   ]
  },
  {
   "cell_type": "code",
   "execution_count": 35,
   "metadata": {
    "ExecuteTime": {
     "end_time": "2019-05-15T11:28:08.271492Z",
     "start_time": "2019-05-15T11:28:08.204488Z"
    }
   },
   "outputs": [
    {
     "name": "stdout",
     "output_type": "stream",
     "text": [
      "当前入栈的元素为： A\n",
      "当前入栈的元素为： B\n",
      "当前入栈的元素为： C\n",
      "栈订元素： C\n",
      "出栈元素： C\n",
      "A B "
     ]
    }
   ],
   "source": [
    "# 链栈2\n",
    "class StackNode:\n",
    "    def __init__(self):\n",
    "        self.data = None\n",
    "        self.next = None\n",
    "        \n",
    "class LinkStack:\n",
    "    def __init__(self):\n",
    "        self.top = StackNode()\n",
    "    '''判断链栈是否为空'''\n",
    "    def IsEmptyStack(self):\n",
    "        if self.top.next == None:\n",
    "            iTop = True\n",
    "        else:\n",
    "            iTop = False\n",
    "        return iTop\n",
    "    '''进栈'''\n",
    "    def PushStack(self,da):\n",
    "        tStackNode = StackNode()\n",
    "        tStackNode.data = da\n",
    "        tStackNode.next = self.top.next\n",
    "        self.top.next = tStackNode\n",
    "        print(\"当前入栈的元素为：\",da)\n",
    "    '''出栈'''\n",
    "    def PopStack(self):\n",
    "        if self.IsEmptyStack() == True:\n",
    "            return\n",
    "        else:\n",
    "            tStackNode = self.top.next\n",
    "            self.top.next = tStackNode.next\n",
    "            return tStackNode.data\n",
    "    '''获取栈顶元素'''\n",
    "    def GetTopStack(self):\n",
    "        if self.IsEmptyStack() == True:\n",
    "            return\n",
    "        else: \n",
    "            return self.top.next.data\n",
    "    '''反向输出链栈元素'''\n",
    "    def ReverseStackTraverse(self):\n",
    "        list1 = []\n",
    "        tStackNode = self.top.next\n",
    "        while tStackNode != None:\n",
    "            result = self.PopStack()\n",
    "            list1.append(result)\n",
    "            tStackNode = tStackNode.next\n",
    "        for i in list1[::-1]:\n",
    "            print(i,end = ' ')\n",
    "class TestBM:\n",
    "    def BracketMatch(self,str1):\n",
    "        Ls = LinkStack()\n",
    "        i = 0\n",
    "        while i < len(str1):\n",
    "            if str1[i] == '{':\n",
    "                Ls.PushStack(str1[i])\n",
    "                i = i+1\n",
    "            elif str1[i] == '}':\n",
    "                if Ls.GetTopStack() == '{':\n",
    "                    Ls.PopStack() \n",
    "                    i = i+1\n",
    "                else:\n",
    "                    Ls.PushStack(str1[i])\n",
    "                    i = i+1\n",
    "            else:\n",
    "                 i = i+1\n",
    "        if Ls.IsEmptyStack() == True:\n",
    "            print(\"括号匹配成功！！！\")\n",
    "        else:\n",
    "            print(\"匹配失败！！！\")\n",
    "            print(\"未匹配的括号为：\",end = ' ')\n",
    "            Ls.ReverseStackTraverse()\n",
    "            \n",
    "listStack = LinkStack()            \n",
    "listStack.PushStack('A')\n",
    "listStack.PushStack('B')\n",
    "listStack.PushStack('C')\n",
    "print('栈订元素：',listStack.GetTopStack())\n",
    "print('出栈元素：',listStack.PopStack())\n",
    "listStack.ReverseStackTraverse()"
   ]
  },
  {
   "cell_type": "markdown",
   "metadata": {},
   "source": [
    "## 顺序队列\n",
    "先进先出，list的部分功能"
   ]
  },
  {
   "cell_type": "code",
   "execution_count": 30,
   "metadata": {
    "ExecuteTime": {
     "end_time": "2019-05-15T11:23:01.988974Z",
     "start_time": "2019-05-15T11:23:01.964972Z"
    }
   },
   "outputs": [],
   "source": [
    "'''顺序队列'''\n",
    "class ArrayQueue(object):\n",
    "    def __init__(self):\n",
    "        self.items = []\n",
    "\n",
    "    def is_empty(self):\n",
    "        return self.items == []\n",
    "\n",
    "    def enqueue(self, item): # 入队\n",
    "        self.items.insert(0, item)\n",
    "\n",
    "    def dequeue(self):# 出队\n",
    "        return self.items.pop()\n",
    "\n",
    "    def size(self):\n",
    "        return len(self.items)"
   ]
  },
  {
   "cell_type": "markdown",
   "metadata": {},
   "source": [
    "## 链队列\n"
   ]
  },
  {
   "cell_type": "code",
   "execution_count": 31,
   "metadata": {
    "ExecuteTime": {
     "end_time": "2019-05-15T11:23:13.142612Z",
     "start_time": "2019-05-15T11:23:13.095609Z"
    }
   },
   "outputs": [],
   "source": [
    "'''链队列'''\n",
    "class Node(object):\n",
    "    def __init__(self, data):\n",
    "        self.data = data\n",
    "        self.next = None\n",
    "\n",
    "\n",
    "class LinkStack(object):\n",
    "    def __init__(self):\n",
    "        self.node = Node(None)\n",
    "        self.head = self.node\n",
    "        self.size = 0\n",
    "\n",
    "    def is_empty(self):\n",
    "        return self.size == 0\n",
    "\n",
    "    def get_size(self):\n",
    "        return self.size\n",
    "\n",
    "    def push(self, data):\n",
    "        node = Node(data)\n",
    "        node.next = self.head.next\n",
    "        self.head.next = node\n",
    "        self.size += 1\n",
    "\n",
    "    def pop(self):\n",
    "        if not self.is_empty():\n",
    "            current_node = self.head.next\n",
    "            if self.get_size() == 1:\n",
    "                self.head.next = None\n",
    "            else:\n",
    "                self.head.next = self.head.next.next\n",
    "            self.size -= 1\n",
    "            return current_node.data\n",
    "        else:\n",
    "            raise IndexError(\"pop from empty stack\")\n",
    "\n",
    "    def top(self):\n",
    "        if not self.is_empty():\n",
    "            return self.head.next.data\n",
    "        else:\n",
    "            raise IndexError(\"stack is empty\")\n"
   ]
  },
  {
   "cell_type": "markdown",
   "metadata": {},
   "source": [
    "## 斐波那契数列"
   ]
  },
  {
   "cell_type": "code",
   "execution_count": 11,
   "metadata": {
    "ExecuteTime": {
     "end_time": "2019-05-15T10:56:01.651296Z",
     "start_time": "2019-05-15T10:56:01.600293Z"
    }
   },
   "outputs": [
    {
     "name": "stdout",
     "output_type": "stream",
     "text": [
      "1 1 2 3 5 8 13 21 34 55 89 144 233 377 610 987 1597 2584 4181 "
     ]
    }
   ],
   "source": [
    "'''斐波那契数列'''\n",
    "def fib_recur(n):\n",
    "    assert n >= 0, \"n > 0\"\n",
    "    if n <= 1:\n",
    "        return n\n",
    "    return fib_recur(n-1) + fib_recur(n-2)\n",
    "\n",
    "for i in range(1, 20):\n",
    "    print(fib_recur(i), end=' ')\n"
   ]
  },
  {
   "cell_type": "markdown",
   "metadata": {},
   "source": [
    "## 阶乘"
   ]
  },
  {
   "cell_type": "code",
   "execution_count": 6,
   "metadata": {
    "ExecuteTime": {
     "end_time": "2019-05-15T10:55:04.523028Z",
     "start_time": "2019-05-15T10:54:58.605690Z"
    }
   },
   "outputs": [
    {
     "name": "stdout",
     "output_type": "stream",
     "text": [
      "请输入一个正整数:10\n",
      "10 的阶乘是 3628800\n"
     ]
    }
   ],
   "source": [
    "'''阶乘'''\n",
    "def factorial(n):\n",
    "    if n==1:\n",
    "        return 1\n",
    "    else:\n",
    "        return n*factorial(n-1)\n",
    "\n",
    "\n",
    "number = int(input(\"请输入一个正整数:\"))\n",
    "result = factorial(number)\n",
    "print(\"%d 的阶乘是 %d\" % (number, result))\n"
   ]
  }
 ],
 "metadata": {
  "hide_input": false,
  "kernelspec": {
   "display_name": "python36",
   "language": "python",
   "name": "python36"
  },
  "language_info": {
   "codemirror_mode": {
    "name": "ipython",
    "version": 3
   },
   "file_extension": ".py",
   "mimetype": "text/x-python",
   "name": "python",
   "nbconvert_exporter": "python",
   "pygments_lexer": "ipython3",
   "version": "3.6.6"
  },
  "toc": {
   "nav_menu": {},
   "number_sections": true,
   "sideBar": true,
   "skip_h1_title": false,
   "title_cell": "Table of Contents",
   "title_sidebar": "Contents",
   "toc_cell": false,
   "toc_position": {},
   "toc_section_display": true,
   "toc_window_display": false
  },
  "varInspector": {
   "cols": {
    "lenName": 16,
    "lenType": 16,
    "lenVar": 40
   },
   "kernels_config": {
    "python": {
     "delete_cmd_postfix": "",
     "delete_cmd_prefix": "del ",
     "library": "var_list.py",
     "varRefreshCmd": "print(var_dic_list())"
    },
    "r": {
     "delete_cmd_postfix": ") ",
     "delete_cmd_prefix": "rm(",
     "library": "var_list.r",
     "varRefreshCmd": "cat(var_dic_list()) "
    }
   },
   "types_to_exclude": [
    "module",
    "function",
    "builtin_function_or_method",
    "instance",
    "_Feature"
   ],
   "window_display": false
  }
 },
 "nbformat": 4,
 "nbformat_minor": 2
}
